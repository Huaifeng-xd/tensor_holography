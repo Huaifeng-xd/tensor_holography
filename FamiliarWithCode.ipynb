{
 "cells": [
  {
   "cell_type": "markdown",
   "source": [
    "Total variation loss常被用在损失函数里的正则项，可以起到平滑图像，去除鬼影，消除噪声的作用\n",
    "![TV loss](https://img-blog.csdnimg.cn/20190327153001721.jpg)"
   ],
   "metadata": {
    "collapsed": false
   },
   "id": "f97e992d4dc2d290"
  },
  {
   "cell_type": "code",
   "execution_count": 1,
   "outputs": [],
   "source": [
    "import torch\n"
   ],
   "metadata": {
    "collapsed": false,
    "ExecuteTime": {
     "start_time": "2023-10-11T15:33:28.670491600Z"
    }
   },
   "id": "f7f5e6f25996bac6"
  },
  {
   "cell_type": "code",
   "execution_count": 10,
   "outputs": [
    {
     "name": "stdout",
     "output_type": "stream",
     "text": [
      "tensor([[[[-1.2304, -0.9535, -0.9516],\n",
      "          [-0.6919, -1.6678,  1.3766]],\n",
      "\n",
      "         [[-2.0745, -0.1497,  0.5640],\n",
      "          [-0.9744,  1.2768,  0.1757]]],\n",
      "\n",
      "\n",
      "        [[[ 1.3457, -1.4170, -0.5639],\n",
      "          [-2.1272, -0.2309,  1.4146]],\n",
      "\n",
      "         [[ 0.5070,  0.6867,  1.5837],\n",
      "          [ 0.0611, -1.4132,  1.1598]]]])\n"
     ]
    }
   ],
   "source": [
    "field = torch.randn((2,2,2,3))\n",
    "print(field)\n",
    "dx = field[:, :, :, 1:] - field[:, :, :, :-1]"
   ],
   "metadata": {
    "collapsed": false,
    "ExecuteTime": {
     "end_time": "2023-10-11T15:35:32.148238300Z",
     "start_time": "2023-10-11T15:35:32.135623200Z"
    }
   },
   "id": "638fd9cf8d340a89"
  },
  {
   "cell_type": "code",
   "execution_count": 10,
   "outputs": [],
   "source": [],
   "metadata": {
    "collapsed": false,
    "ExecuteTime": {
     "end_time": "2023-10-11T15:35:33.441310200Z",
     "start_time": "2023-10-11T15:35:33.424187500Z"
    }
   },
   "id": "f0c2eb838656dcf"
  },
  {
   "cell_type": "code",
   "execution_count": null,
   "outputs": [],
   "source": [],
   "metadata": {
    "collapsed": false
   },
   "id": "837bde50943222e4"
  }
 ],
 "metadata": {
  "kernelspec": {
   "display_name": "Python 3",
   "language": "python",
   "name": "python3"
  },
  "language_info": {
   "codemirror_mode": {
    "name": "ipython",
    "version": 2
   },
   "file_extension": ".py",
   "mimetype": "text/x-python",
   "name": "python",
   "nbconvert_exporter": "python",
   "pygments_lexer": "ipython2",
   "version": "2.7.6"
  }
 },
 "nbformat": 4,
 "nbformat_minor": 5
}
